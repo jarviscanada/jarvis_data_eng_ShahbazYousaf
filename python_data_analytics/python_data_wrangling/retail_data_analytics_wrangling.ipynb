{
 "cells": [
  {
   "cell_type": "markdown",
   "metadata": {},
   "source": [
    "# Retail Data Wrangling and Analytics"
   ]
  },
  {
   "cell_type": "code",
   "execution_count": 21,
   "metadata": {},
   "outputs": [],
   "source": [
    "# Import modules \n",
    "import pandas as pd\n",
    "%matplotlib inline\n",
    "import matplotlib.pyplot as plt\n",
    "import numpy as np\n",
    "import seaborn as sns"
   ]
  },
  {
   "cell_type": "markdown",
   "metadata": {},
   "source": [
    "# Load Data from PSQL into DataFrame\n",
    "\n",
    "**Setup Docker Containers**\n",
    "\n",
    "![](https://i.imgur.com/VQrBVBk.jpg)\n",
    "\n",
    "```\n",
    "#make sure you have both Jupyter and PSQL docker container running\n",
    "docker ps\n",
    "\n",
    "#Attach a bridge network to both containers so they can communicate with each other\n",
    "docker network create jarvis-net\n",
    "#this command works on running containers\n",
    "docker network connect jarvis-net jarvis-jupyter\n",
    "docker network connect jarvis-net jarvis-psql\n",
    "\n",
    "#verify both containers are attached to the jarvis-net\n",
    "docker network inspect trading-net\n",
    "\n",
    "#Note: instead of using `localhost`, you should use container names as hostnames.\n",
    "```\n",
    "\n",
    "**Data Preperation**\n",
    "\n",
    "- Use [pandas.read_sql](https://pandas.pydata.org/pandas-docs/stable/reference/api/pandas.read_sql.html) api to load the PSQL retail table into a Pandas DataFrame\n",
    "\n",
    "![](https://i.imgur.com/AmkAP63.jpg)\n",
    "\n",
    "- Get familair with the transaction date with `df.head()`, `df.sample(10)`, `df.info()`, `df.describe()`, etc..\n",
    "\n"
   ]
  },
  {
   "cell_type": "code",
   "execution_count": 3,
   "metadata": {
    "tags": []
   },
   "outputs": [
    {
     "name": "stdout",
     "output_type": "stream",
     "text": [
      "Requirement already satisfied: psycopg2-binary in /opt/conda/lib/python3.8/site-packages (2.9.9)\n"
     ]
    }
   ],
   "source": [
    "#install psql \"driver\"\n",
    "!pip3 install psycopg2-binary"
   ]
  },
  {
   "cell_type": "code",
   "execution_count": 8,
   "metadata": {},
   "outputs": [
    {
     "data": {
      "text/html": [
       "<div>\n",
       "<style scoped>\n",
       "    .dataframe tbody tr th:only-of-type {\n",
       "        vertical-align: middle;\n",
       "    }\n",
       "\n",
       "    .dataframe tbody tr th {\n",
       "        vertical-align: top;\n",
       "    }\n",
       "\n",
       "    .dataframe thead th {\n",
       "        text-align: right;\n",
       "    }\n",
       "</style>\n",
       "<table border=\"1\" class=\"dataframe\">\n",
       "  <thead>\n",
       "    <tr style=\"text-align: right;\">\n",
       "      <th></th>\n",
       "      <th>invoice_no</th>\n",
       "      <th>stock_code</th>\n",
       "      <th>description</th>\n",
       "      <th>quantity</th>\n",
       "      <th>invoice_date</th>\n",
       "      <th>unit_price</th>\n",
       "      <th>customer_id</th>\n",
       "      <th>country</th>\n",
       "    </tr>\n",
       "  </thead>\n",
       "  <tbody>\n",
       "    <tr>\n",
       "      <th>0</th>\n",
       "      <td>489434</td>\n",
       "      <td>85048</td>\n",
       "      <td>15CM CHRISTMAS GLASS BALL 20 LIGHTS</td>\n",
       "      <td>12</td>\n",
       "      <td>2009-12-01 07:45:00</td>\n",
       "      <td>6.95</td>\n",
       "      <td>13085.0</td>\n",
       "      <td>United Kingdom</td>\n",
       "    </tr>\n",
       "    <tr>\n",
       "      <th>1</th>\n",
       "      <td>489434</td>\n",
       "      <td>79323P</td>\n",
       "      <td>PINK CHERRY LIGHTS</td>\n",
       "      <td>12</td>\n",
       "      <td>2009-12-01 07:45:00</td>\n",
       "      <td>6.75</td>\n",
       "      <td>13085.0</td>\n",
       "      <td>United Kingdom</td>\n",
       "    </tr>\n",
       "    <tr>\n",
       "      <th>2</th>\n",
       "      <td>489434</td>\n",
       "      <td>79323W</td>\n",
       "      <td>WHITE CHERRY LIGHTS</td>\n",
       "      <td>12</td>\n",
       "      <td>2009-12-01 07:45:00</td>\n",
       "      <td>6.75</td>\n",
       "      <td>13085.0</td>\n",
       "      <td>United Kingdom</td>\n",
       "    </tr>\n",
       "    <tr>\n",
       "      <th>3</th>\n",
       "      <td>489434</td>\n",
       "      <td>22041</td>\n",
       "      <td>RECORD FRAME 7\" SINGLE SIZE</td>\n",
       "      <td>48</td>\n",
       "      <td>2009-12-01 07:45:00</td>\n",
       "      <td>2.10</td>\n",
       "      <td>13085.0</td>\n",
       "      <td>United Kingdom</td>\n",
       "    </tr>\n",
       "    <tr>\n",
       "      <th>4</th>\n",
       "      <td>489434</td>\n",
       "      <td>21232</td>\n",
       "      <td>STRAWBERRY CERAMIC TRINKET BOX</td>\n",
       "      <td>24</td>\n",
       "      <td>2009-12-01 07:45:00</td>\n",
       "      <td>1.25</td>\n",
       "      <td>13085.0</td>\n",
       "      <td>United Kingdom</td>\n",
       "    </tr>\n",
       "  </tbody>\n",
       "</table>\n",
       "</div>"
      ],
      "text/plain": [
       "  invoice_no stock_code                          description  quantity  \\\n",
       "0     489434      85048  15CM CHRISTMAS GLASS BALL 20 LIGHTS        12   \n",
       "1     489434     79323P                   PINK CHERRY LIGHTS        12   \n",
       "2     489434     79323W                  WHITE CHERRY LIGHTS        12   \n",
       "3     489434      22041         RECORD FRAME 7\" SINGLE SIZE         48   \n",
       "4     489434      21232       STRAWBERRY CERAMIC TRINKET BOX        24   \n",
       "\n",
       "         invoice_date  unit_price  customer_id         country  \n",
       "0 2009-12-01 07:45:00        6.95      13085.0  United Kingdom  \n",
       "1 2009-12-01 07:45:00        6.75      13085.0  United Kingdom  \n",
       "2 2009-12-01 07:45:00        6.75      13085.0  United Kingdom  \n",
       "3 2009-12-01 07:45:00        2.10      13085.0  United Kingdom  \n",
       "4 2009-12-01 07:45:00        1.25      13085.0  United Kingdom  "
      ]
     },
     "execution_count": 8,
     "metadata": {},
     "output_type": "execute_result"
    }
   ],
   "source": [
    "#Write your code in one or more cells (please remove this line from your notebook)\n",
    "import psycopg2\n",
    "from sqlalchemy import create_engine\n",
    "\n",
    "db_params = {\n",
    "    'host': 'jrvs-psql',  # Container name as the hostname\n",
    "    'port': 5432,\n",
    "    'database': 'postgres',\n",
    "    'user': 'postgres',\n",
    "    'password': 'password'\n",
    "}\n",
    "\n",
    "\n",
    "engine_string = f\"postgresql+psycopg2://{db_params['user']}:{db_params['password']}@{db_params['host']}:{db_params['port']}/{db_params['database']}\"\n",
    "engine = create_engine(engine_string)\n",
    "\n",
    "retail_df = pd.read_sql_table('retail', con=engine)\n",
    "retail_df.head()"
   ]
  },
  {
   "cell_type": "code",
   "execution_count": 9,
   "metadata": {},
   "outputs": [
    {
     "name": "stdout",
     "output_type": "stream",
     "text": [
      "<class 'pandas.core.frame.DataFrame'>\n",
      "RangeIndex: 1067371 entries, 0 to 1067370\n",
      "Data columns (total 8 columns):\n",
      " #   Column        Non-Null Count    Dtype         \n",
      "---  ------        --------------    -----         \n",
      " 0   invoice_no    1067371 non-null  object        \n",
      " 1   stock_code    1067371 non-null  object        \n",
      " 2   description   1062989 non-null  object        \n",
      " 3   quantity      1067371 non-null  int64         \n",
      " 4   invoice_date  1067371 non-null  datetime64[ns]\n",
      " 5   unit_price    1067371 non-null  float64       \n",
      " 6   customer_id   824364 non-null   float64       \n",
      " 7   country       1067371 non-null  object        \n",
      "dtypes: datetime64[ns](1), float64(2), int64(1), object(4)\n",
      "memory usage: 65.1+ MB\n"
     ]
    },
    {
     "data": {
      "text/html": [
       "<div>\n",
       "<style scoped>\n",
       "    .dataframe tbody tr th:only-of-type {\n",
       "        vertical-align: middle;\n",
       "    }\n",
       "\n",
       "    .dataframe tbody tr th {\n",
       "        vertical-align: top;\n",
       "    }\n",
       "\n",
       "    .dataframe thead th {\n",
       "        text-align: right;\n",
       "    }\n",
       "</style>\n",
       "<table border=\"1\" class=\"dataframe\">\n",
       "  <thead>\n",
       "    <tr style=\"text-align: right;\">\n",
       "      <th></th>\n",
       "      <th>quantity</th>\n",
       "      <th>unit_price</th>\n",
       "      <th>customer_id</th>\n",
       "    </tr>\n",
       "  </thead>\n",
       "  <tbody>\n",
       "    <tr>\n",
       "      <th>count</th>\n",
       "      <td>1.067371e+06</td>\n",
       "      <td>1.067371e+06</td>\n",
       "      <td>824364.000000</td>\n",
       "    </tr>\n",
       "    <tr>\n",
       "      <th>mean</th>\n",
       "      <td>9.938898e+00</td>\n",
       "      <td>4.649388e+00</td>\n",
       "      <td>15324.638504</td>\n",
       "    </tr>\n",
       "    <tr>\n",
       "      <th>std</th>\n",
       "      <td>1.727058e+02</td>\n",
       "      <td>1.235531e+02</td>\n",
       "      <td>1697.464450</td>\n",
       "    </tr>\n",
       "    <tr>\n",
       "      <th>min</th>\n",
       "      <td>-8.099500e+04</td>\n",
       "      <td>-5.359440e+04</td>\n",
       "      <td>12346.000000</td>\n",
       "    </tr>\n",
       "    <tr>\n",
       "      <th>25%</th>\n",
       "      <td>1.000000e+00</td>\n",
       "      <td>1.250000e+00</td>\n",
       "      <td>13975.000000</td>\n",
       "    </tr>\n",
       "    <tr>\n",
       "      <th>50%</th>\n",
       "      <td>3.000000e+00</td>\n",
       "      <td>2.100000e+00</td>\n",
       "      <td>15255.000000</td>\n",
       "    </tr>\n",
       "    <tr>\n",
       "      <th>75%</th>\n",
       "      <td>1.000000e+01</td>\n",
       "      <td>4.150000e+00</td>\n",
       "      <td>16797.000000</td>\n",
       "    </tr>\n",
       "    <tr>\n",
       "      <th>max</th>\n",
       "      <td>8.099500e+04</td>\n",
       "      <td>3.897000e+04</td>\n",
       "      <td>18287.000000</td>\n",
       "    </tr>\n",
       "  </tbody>\n",
       "</table>\n",
       "</div>"
      ],
      "text/plain": [
       "           quantity    unit_price    customer_id\n",
       "count  1.067371e+06  1.067371e+06  824364.000000\n",
       "mean   9.938898e+00  4.649388e+00   15324.638504\n",
       "std    1.727058e+02  1.235531e+02    1697.464450\n",
       "min   -8.099500e+04 -5.359440e+04   12346.000000\n",
       "25%    1.000000e+00  1.250000e+00   13975.000000\n",
       "50%    3.000000e+00  2.100000e+00   15255.000000\n",
       "75%    1.000000e+01  4.150000e+00   16797.000000\n",
       "max    8.099500e+04  3.897000e+04   18287.000000"
      ]
     },
     "execution_count": 9,
     "metadata": {},
     "output_type": "execute_result"
    }
   ],
   "source": [
    "retail_df.info()\n",
    "retail_df.describe()"
   ]
  },
  {
   "cell_type": "markdown",
   "metadata": {},
   "source": [
    "# Load CSV into Dataframe\n",
    "Alternatively, the LGS IT team also dumped the transactional data into a [CSV file](https://raw.githubusercontent.com/jarviscanada/jarvis_data_eng_demo/feature/data/python_data_wrangling/data/online_retail_II.csv). However, the CSV header (column names) doesn't follow the snakecase or camelcase naming convention (e.g. `Customer ID` instead of `customer_id` or `CustomerID`). As a result, you will need to use Pandas to clean up the data before doing any analytics. In addition, unlike the PSQL scheme, CSV files do not have data types associated. Therefore, you will need to cast/convert certain columns into correct data types (e.g. DateTime, numbers, etc..)\n",
    "\n",
    "**Data Preperation**\n",
    "\n",
    "- Read the `data/online_retail_II.csv` file into a DataFrame\n",
    "- Rename all columns to upper camelcase or snakecase\n",
    "- Convert/cast all columns to the appropriate data types (e.g. datetime)"
   ]
  },
  {
   "cell_type": "code",
   "execution_count": 18,
   "metadata": {},
   "outputs": [
    {
     "data": {
      "text/html": [
       "<div>\n",
       "<style scoped>\n",
       "    .dataframe tbody tr th:only-of-type {\n",
       "        vertical-align: middle;\n",
       "    }\n",
       "\n",
       "    .dataframe tbody tr th {\n",
       "        vertical-align: top;\n",
       "    }\n",
       "\n",
       "    .dataframe thead th {\n",
       "        text-align: right;\n",
       "    }\n",
       "</style>\n",
       "<table border=\"1\" class=\"dataframe\">\n",
       "  <thead>\n",
       "    <tr style=\"text-align: right;\">\n",
       "      <th></th>\n",
       "      <th>Invoice</th>\n",
       "      <th>StockCode</th>\n",
       "      <th>Description</th>\n",
       "      <th>Quantity</th>\n",
       "      <th>InvoiceDate</th>\n",
       "      <th>Price</th>\n",
       "      <th>Customer ID</th>\n",
       "      <th>Country</th>\n",
       "    </tr>\n",
       "  </thead>\n",
       "  <tbody>\n",
       "    <tr>\n",
       "      <th>0</th>\n",
       "      <td>489434</td>\n",
       "      <td>85048</td>\n",
       "      <td>15CM CHRISTMAS GLASS BALL 20 LIGHTS</td>\n",
       "      <td>12</td>\n",
       "      <td>2009-12-01 07:45:00</td>\n",
       "      <td>6.95</td>\n",
       "      <td>13085.0</td>\n",
       "      <td>United Kingdom</td>\n",
       "    </tr>\n",
       "    <tr>\n",
       "      <th>1</th>\n",
       "      <td>489434</td>\n",
       "      <td>79323P</td>\n",
       "      <td>PINK CHERRY LIGHTS</td>\n",
       "      <td>12</td>\n",
       "      <td>2009-12-01 07:45:00</td>\n",
       "      <td>6.75</td>\n",
       "      <td>13085.0</td>\n",
       "      <td>United Kingdom</td>\n",
       "    </tr>\n",
       "    <tr>\n",
       "      <th>2</th>\n",
       "      <td>489434</td>\n",
       "      <td>79323W</td>\n",
       "      <td>WHITE CHERRY LIGHTS</td>\n",
       "      <td>12</td>\n",
       "      <td>2009-12-01 07:45:00</td>\n",
       "      <td>6.75</td>\n",
       "      <td>13085.0</td>\n",
       "      <td>United Kingdom</td>\n",
       "    </tr>\n",
       "    <tr>\n",
       "      <th>3</th>\n",
       "      <td>489434</td>\n",
       "      <td>22041</td>\n",
       "      <td>RECORD FRAME 7\" SINGLE SIZE</td>\n",
       "      <td>48</td>\n",
       "      <td>2009-12-01 07:45:00</td>\n",
       "      <td>2.10</td>\n",
       "      <td>13085.0</td>\n",
       "      <td>United Kingdom</td>\n",
       "    </tr>\n",
       "    <tr>\n",
       "      <th>4</th>\n",
       "      <td>489434</td>\n",
       "      <td>21232</td>\n",
       "      <td>STRAWBERRY CERAMIC TRINKET BOX</td>\n",
       "      <td>24</td>\n",
       "      <td>2009-12-01 07:45:00</td>\n",
       "      <td>1.25</td>\n",
       "      <td>13085.0</td>\n",
       "      <td>United Kingdom</td>\n",
       "    </tr>\n",
       "  </tbody>\n",
       "</table>\n",
       "</div>"
      ],
      "text/plain": [
       "  Invoice StockCode                          Description  Quantity  \\\n",
       "0  489434     85048  15CM CHRISTMAS GLASS BALL 20 LIGHTS        12   \n",
       "1  489434    79323P                   PINK CHERRY LIGHTS        12   \n",
       "2  489434    79323W                  WHITE CHERRY LIGHTS        12   \n",
       "3  489434     22041         RECORD FRAME 7\" SINGLE SIZE         48   \n",
       "4  489434     21232       STRAWBERRY CERAMIC TRINKET BOX        24   \n",
       "\n",
       "           InvoiceDate  Price  Customer ID         Country  \n",
       "0  2009-12-01 07:45:00   6.95      13085.0  United Kingdom  \n",
       "1  2009-12-01 07:45:00   6.75      13085.0  United Kingdom  \n",
       "2  2009-12-01 07:45:00   6.75      13085.0  United Kingdom  \n",
       "3  2009-12-01 07:45:00   2.10      13085.0  United Kingdom  \n",
       "4  2009-12-01 07:45:00   1.25      13085.0  United Kingdom  "
      ]
     },
     "execution_count": 18,
     "metadata": {},
     "output_type": "execute_result"
    }
   ],
   "source": [
    "retail_df = pd.read_csv('https://raw.githubusercontent.com/jarviscanada/jarvis_data_eng_demo/feature/data/python_data_wrangling/data/online_retail_II.csv')\n",
    "retail_df.head()"
   ]
  },
  {
   "cell_type": "code",
   "execution_count": 19,
   "metadata": {},
   "outputs": [
    {
     "name": "stdout",
     "output_type": "stream",
     "text": [
      "<class 'pandas.core.frame.DataFrame'>\n",
      "RangeIndex: 1067371 entries, 0 to 1067370\n",
      "Data columns (total 8 columns):\n",
      " #   Column       Non-Null Count    Dtype  \n",
      "---  ------       --------------    -----  \n",
      " 0   Invoice      1067371 non-null  object \n",
      " 1   StockCode    1067371 non-null  object \n",
      " 2   Description  1062989 non-null  object \n",
      " 3   Quantity     1067371 non-null  int64  \n",
      " 4   InvoiceDate  1067371 non-null  object \n",
      " 5   Price        1067371 non-null  float64\n",
      " 6   Customer ID  824364 non-null   float64\n",
      " 7   Country      1067371 non-null  object \n",
      "dtypes: float64(2), int64(1), object(5)\n",
      "memory usage: 65.1+ MB\n"
     ]
    }
   ],
   "source": [
    "retail_df.info()"
   ]
  },
  {
   "cell_type": "code",
   "execution_count": 43,
   "metadata": {},
   "outputs": [
    {
     "name": "stdout",
     "output_type": "stream",
     "text": [
      "<class 'pandas.core.frame.DataFrame'>\n",
      "RangeIndex: 1067371 entries, 0 to 1067370\n",
      "Data columns (total 8 columns):\n",
      " #   Column       Non-Null Count    Dtype         \n",
      "---  ------       --------------    -----         \n",
      " 0   Invoice      1067371 non-null  object        \n",
      " 1   StockCode    1067371 non-null  object        \n",
      " 2   Description  1062989 non-null  object        \n",
      " 3   Quantity     1067371 non-null  int64         \n",
      " 4   InvoiceDate  1067371 non-null  datetime64[ns]\n",
      " 5   Price        1067371 non-null  float64       \n",
      " 6   CustomerID   824364 non-null   float64       \n",
      " 7   Country      1067371 non-null  object        \n",
      "dtypes: datetime64[ns](1), float64(2), int64(1), object(4)\n",
      "memory usage: 65.1+ MB\n"
     ]
    }
   ],
   "source": [
    "# Rename columns to upper camelcase or snakecase\n",
    "retail_df.rename(columns={\"Customer ID\": \"CustomerID\"}, inplace=True) \n",
    "\n",
    "# Convert/cast all columns to the appropriate data types\n",
    "retail_df = retail_df.astype(\n",
    "    {'Invoice':'object',\n",
    "     'StockCode':'object',\n",
    "     'Description':'object',\n",
    "     'Quantity':'int64',\n",
    "     'InvoiceDate':'datetime64',\n",
    "     'Price':'float64',\n",
    "     'CustomerID':'float64',\n",
    "     'Country':'object',\n",
    "    })\n",
    "\n",
    "retail_df.info()"
   ]
  },
  {
   "cell_type": "markdown",
   "metadata": {},
   "source": [
    "# Total Invoice Amount Distribution"
   ]
  },
  {
   "cell_type": "markdown",
   "metadata": {},
   "source": [
    "---\n",
    "**Please remove this insturction cell after you are done with coding**\n",
    "\n",
    "1. Calculate the invoice amount. Note: an invoice consists of one or more items where each item is a row in the df. (hint: you need to `GROUP BY invoice`)\n",
    "2. Draw the distribution of invoice amount with min, max, median, mod, and mean. However, you will notice many outlier data (e.g. invoices with large amounts). Sample hist and box charts:\n",
    "\n",
    "![](https://i.imgur.com/N8hsbDa.jpg)\n",
    "\n",
    "3. Draw the distribution for the first 85 quantiles of the invoice amount data with min, max, median, mod, and mean.\n",
    "\n",
    "\n",
    "![](https://i.imgur.com/tJrH1qj.jpg)\n",
    "\n",
    "\n",
    "---"
   ]
  },
  {
   "cell_type": "code",
   "execution_count": 64,
   "metadata": {},
   "outputs": [
    {
     "data": {
      "text/html": [
       "<div>\n",
       "<style scoped>\n",
       "    .dataframe tbody tr th:only-of-type {\n",
       "        vertical-align: middle;\n",
       "    }\n",
       "\n",
       "    .dataframe tbody tr th {\n",
       "        vertical-align: top;\n",
       "    }\n",
       "\n",
       "    .dataframe thead th {\n",
       "        text-align: right;\n",
       "    }\n",
       "</style>\n",
       "<table border=\"1\" class=\"dataframe\">\n",
       "  <thead>\n",
       "    <tr style=\"text-align: right;\">\n",
       "      <th></th>\n",
       "      <th>InvoiceAmount</th>\n",
       "    </tr>\n",
       "    <tr>\n",
       "      <th>Invoice</th>\n",
       "      <th></th>\n",
       "    </tr>\n",
       "  </thead>\n",
       "  <tbody>\n",
       "    <tr>\n",
       "      <th>489434</th>\n",
       "      <td>505.30</td>\n",
       "    </tr>\n",
       "    <tr>\n",
       "      <th>489435</th>\n",
       "      <td>145.80</td>\n",
       "    </tr>\n",
       "    <tr>\n",
       "      <th>489436</th>\n",
       "      <td>630.33</td>\n",
       "    </tr>\n",
       "    <tr>\n",
       "      <th>489437</th>\n",
       "      <td>310.75</td>\n",
       "    </tr>\n",
       "    <tr>\n",
       "      <th>489438</th>\n",
       "      <td>2286.24</td>\n",
       "    </tr>\n",
       "    <tr>\n",
       "      <th>489439</th>\n",
       "      <td>426.30</td>\n",
       "    </tr>\n",
       "    <tr>\n",
       "      <th>489440</th>\n",
       "      <td>50.40</td>\n",
       "    </tr>\n",
       "    <tr>\n",
       "      <th>489441</th>\n",
       "      <td>344.34</td>\n",
       "    </tr>\n",
       "    <tr>\n",
       "      <th>489442</th>\n",
       "      <td>382.37</td>\n",
       "    </tr>\n",
       "    <tr>\n",
       "      <th>489443</th>\n",
       "      <td>285.06</td>\n",
       "    </tr>\n",
       "  </tbody>\n",
       "</table>\n",
       "</div>"
      ],
      "text/plain": [
       "         InvoiceAmount\n",
       "Invoice               \n",
       "489434          505.30\n",
       "489435          145.80\n",
       "489436          630.33\n",
       "489437          310.75\n",
       "489438         2286.24\n",
       "489439          426.30\n",
       "489440           50.40\n",
       "489441          344.34\n",
       "489442          382.37\n",
       "489443          285.06"
      ]
     },
     "execution_count": 64,
     "metadata": {},
     "output_type": "execute_result"
    }
   ],
   "source": [
    "# Create a copy of the DataFrame to avoid modifying the original DataFrame\n",
    "inv_amount_df = retail_df[[\"Invoice\",\"Quantity\", \"Price\"]].copy()\n",
    "\n",
    "# Calculate the InvoiceAmount by multiplying Quantity and Price\n",
    "inv_amount_df[\"InvoiceAmount\"] = inv_amount_df[\"Price\"] * inv_amount_df[\"Quantity\"]\n",
    "\n",
    "# Group by \"Invoice\" and sum the \"InvoiceAmount\" for each invoice\n",
    "inv_df = inv_amount_df[['Invoice', 'InvoiceAmount']][inv_amount_df.InvoiceAmount > 0].groupby('Invoice').sum('InvoiceAmount')\n",
    "\n",
    "# Display the first 10 rows of the resulting DataFrame\n",
    "inv_df.head(10)"
   ]
  },
  {
   "cell_type": "code",
   "execution_count": 85,
   "metadata": {},
   "outputs": [
    {
     "name": "stdout",
     "output_type": "stream",
     "text": [
      "Min: 0.19, Max: 168469.6, Mean: 523.3037611158244, Median: 304.3150000000001, Mode: 0    15.0\n",
      "dtype: float64\n"
     ]
    },
    {
     "data": {
      "image/png": "[encoded data removed]",
      "text/plain": [
       "<Figure size 1080x504 with 2 Axes>"
      ]
     },
     "metadata": {
      "needs_background": "light"
     },
     "output_type": "display_data"
    }
   ],
   "source": [
    "def distribution(retail_data):\n",
    "    # stats\n",
    "    min_invoice = retail_data.min()\n",
    "    max_invoice = retail_data.max()\n",
    "    mean_invoice = retail_data.mean()\n",
    "    median_invoice = retail_data.median()\n",
    "    mode_invoice = retail_data.mode()\n",
    "    print(f\"Min: {retail_data.min()}, Max: {retail_data.max()}, Mean: {retail_data.mean()}, Median: {retail_data.median()}, Mode: {retail_data.mode()}\")\n",
    "    \n",
    "    \n",
    "    # Create a subplot with 2 rows\n",
    "    fig, axs = plt.subplots(2, figsize=(15, 7))\n",
    "\n",
    "    # Plot histogram\n",
    "    axs[0].hist(retail_data, color='blue')\n",
    "#     axs[0].set_xlabel('Invoice Amount')\n",
    "    axs[0].set_ylabel('Frequency')\n",
    "    axs[0].set_title('Retail Invoice Distribution')\n",
    "\n",
    "    # Plot box plot\n",
    "    axs[1].boxplot(retail_data, vert=False)\n",
    "#     axs[1].set_yticklabels(['Invoice Amount'])\n",
    "#     axs[1].set_xlabel('Value')\n",
    "#     axs[1].set_title('Box Plot')\n",
    "\n",
    "    # Manually adjust layout spacing\n",
    "    plt.subplots_adjust(hspace=0.5)\n",
    "\n",
    "    # Show the subplot\n",
    "    plt.show()\n",
    "\n",
    "distribution(inv_df.InvoiceAmount)"
   ]
  },
  {
   "cell_type": "code",
   "execution_count": 86,
   "metadata": {},
   "outputs": [
    {
     "name": "stdout",
     "output_type": "stream",
     "text": [
      "Min: 1.4, Max: 5097.82, Mean: 516.8301176470588, Median: 337.2, Mode: 0        1.40\n",
      "1        2.10\n",
      "2        9.75\n",
      "3       17.00\n",
      "4       21.95\n",
      "       ...   \n",
      "80    1197.80\n",
      "81    2286.24\n",
      "82    2454.68\n",
      "83    2887.14\n",
      "84    5097.82\n",
      "Length: 85, dtype: float64\n"
     ]
    },
    {
     "data": {
      "image/png": "[encoded data removed]",
      "text/plain": [
       "<Figure size 1080x504 with 2 Axes>"
      ]
     },
     "metadata": {
      "needs_background": "light"
     },
     "output_type": "display_data"
    }
   ],
   "source": [
    "distribution(inv_df.InvoiceAmount.head(85))"
   ]
  },
  {
   "cell_type": "markdown",
   "metadata": {},
   "source": [
    "# Monthly Placed and Canceled Orders"
   ]
  },
  {
   "cell_type": "markdown",
   "metadata": {},
   "source": [
    "---\n",
    "**Please remove this insturction cell after you are done with coding**\n",
    "\n",
    "- The attribute information (see the `project kick-off` section) contains useful information that helps you to identify canceled orders\n",
    "- To simplify the problem, you can assume that there are two invoice numbers for each canceled order (one for the original invoice and one for the canceled invoice). Therefore, `# of placed orders = total # of orders - 2 * canceled order`. Furthermore, you can also assume the original invoice and canceled invoice are on always on the same day (this eliminate the case where the original invoice and canceled invoices are on different months)\n",
    "- hints: you might want to create a new integer column with YYYYMM format. e.g. `2009-12-01 07:45:00 -> 200912` which allows easy GROUP BY.\n",
    "\n",
    "**Sample Plot:**\n",
    "\n",
    "![](https://i.imgur.com/tmLsPDf.jpg)\n",
    "\n",
    "---"
   ]
  },
  {
   "cell_type": "code",
   "execution_count": 144,
   "metadata": {},
   "outputs": [],
   "source": [
    "#create a new 'YYYYMM'column and insert into the Dataframe.\n",
    "retail_df2 = retail_df.copy()\n",
    "retail_df2['YYYYMM'] = retail_df2['InvoiceDate'].dt.strftime('%Y%m').astype(int)\n",
    "# retail_df2\n",
    "\n",
    "# Group orders by year and count orders by months\n",
    "retail_ymonth = retail_df2.groupby('YYYYMM')\n",
    "retail_ymonth_total = retail_ymonth['Invoice'].count()\n",
    "# retail_yearmonthl_total\n",
    "\n",
    "# Calculate total orders placed and canceled by month\n",
    "ymonth_cancelled = retail_df2[retail_df2['Invoice'].str.startswith('C')].groupby('YYYYMM')['Invoice'].count()\n",
    "ymonth_placed = retail_ymonth_total - 2 * ymonth_cancelled\n",
    "# ymonth_placed"
   ]
  },
  {
   "cell_type": "code",
   "execution_count": 148,
   "metadata": {},
   "outputs": [
    {
     "data": {
      "image/png": "[encoded data removed]",
      "text/plain": [
       "<Figure size 1152x936 with 1 Axes>"
      ]
     },
     "metadata": {
      "needs_background": "light"
     },
     "output_type": "display_data"
    }
   ],
   "source": [
    "# Plot total orders placed and canceled by month\n",
    "ymonth_cancelled.rename(\"Canceled\", inplace=True)\n",
    "ymonth_placed.rename(\"Placed\", inplace=True)\n",
    "\n",
    "placed_cancelled_df = pd.concat([ymonth_placed.rename('Order Placed'), ymonth_cancelled.rename('Order Cancelled')], axis=1).reset_index()\n",
    "placed_cancelled_df.plot(x='YYYYMM', y=[\"Order Placed\", \"Order Cancelled\"], kind=\"bar\", figsize=(16, 13), xlabel=\"Year Month (YYYYMM)\", ylabel=\"Number of Orders\")\n",
    "plt.show()"
   ]
  },
  {
   "cell_type": "markdown",
   "metadata": {},
   "source": [
    "# Monthly Sales"
   ]
  },
  {
   "cell_type": "markdown",
   "metadata": {},
   "source": [
    "---\n",
    "**Please remove this insturction cell after you are done with coding**\n",
    "\n",
    "\n",
    "- Calculate the monthly sales data\n",
    "- Plot a chart to show monthly sales (e.g. x-asix=year_month, y-axis=sales_amount)\n",
    "\n",
    "![](https://i.imgur.com/k1KOqKO.jpg)\n",
    "\n",
    "---"
   ]
  },
  {
   "cell_type": "code",
   "execution_count": 174,
   "metadata": {},
   "outputs": [
    {
     "data": {
      "image/png": "[encoded data removed]",
      "text/plain": [
       "<Figure size 1152x792 with 1 Axes>"
      ]
     },
     "metadata": {
      "needs_background": "light"
     },
     "output_type": "display_data"
    }
   ],
   "source": [
    "# Calculate the monthly sales data\n",
    "retail_df2[\"InvoiceAmount\"] = retail_df2[\"Price\"] * retail_df2[\"Quantity\"]\n",
    "# retail_df2\n",
    "monthly_sales_df = retail_df2.groupby(\"YYYYMM\")[[\"InvoiceAmount\"]].sum()\n",
    "# monthly_sales_df\n",
    "\n",
    "# Plot a chart to show monthly sales \n",
    "fig = plt.figure(figsize=(16,11))\n",
    "plt.ylabel('Sales (in millions)')\n",
    "plt.xlabel('Year Month (YYYYMM)')\n",
    "plt.title('Monthly Sales')\n",
    "plt.plot(monthly_sales_df)\n",
    "fig.show()"
   ]
  },
  {
   "cell_type": "markdown",
   "metadata": {},
   "source": [
    "# Monthly Sales Growth\n"
   ]
  },
  {
   "cell_type": "markdown",
   "metadata": {},
   "source": [
    "---\n",
    "**Please remove this insturction cell after you are done with coding**\n",
    "\n",
    "- Calculate monthly sales percentage growth data\n",
    "- Plot a chart to show the growth percentage\n",
    "\n",
    "![](https://i.imgur.com/J3btp8j.jpg)\n",
    "\n",
    "---"
   ]
  },
  {
   "cell_type": "code",
   "execution_count": 206,
   "metadata": {},
   "outputs": [
    {
     "data": {
      "image/png": "[encoded data removed]",
      "text/plain": [
       "<Figure size 1440x720 with 1 Axes>"
      ]
     },
     "metadata": {
      "needs_background": "light"
     },
     "output_type": "display_data"
    }
   ],
   "source": [
    "# Calculate monthly sales percentage growth data\n",
    "monthly_sales_growth_df = monthly_sales_df.copy()\n",
    "monthly_sales_growth_df = monthly_sales_growth_df.pct_change()\n",
    "monthly_sales_growth_df\n",
    "\n",
    "plt.figure(figsize=(20, 10))\n",
    "plt.plot(monthly_sales_growth_df.index.astype(str), monthly_sales_growth_df[\"InvoiceAmount\"])\n",
    "\n",
    "plt.title('Monthly Sales Growth')\n",
    "plt.xlabel('Year Month(YYYYMM)', fontsize=14)\n",
    "plt.ylabel('Monthly Sales Growth Percentage')\n",
    "plt.grid(True)\n",
    "plt.tight_layout()\n",
    "plt.show()"
   ]
  },
  {
   "cell_type": "markdown",
   "metadata": {},
   "source": [
    "# Monthly Active Users"
   ]
  },
  {
   "cell_type": "markdown",
   "metadata": {},
   "source": [
    "---\n",
    "**Please remove this insturction cell after you are done with coding**\n",
    "\n",
    "- Compute # of active users (e.g. unique `CusotomerID`) for each month\n",
    "- Plot a bar chart\n",
    "\n",
    "![](https://i.imgur.com/eFYp8VF.jpg)\n",
    "\n",
    "---"
   ]
  },
  {
   "cell_type": "code",
   "execution_count": 221,
   "metadata": {},
   "outputs": [
    {
     "data": {
      "image/png": "[encoded data removed]",
      "text/plain": [
       "<Figure size 1800x1440 with 1 Axes>"
      ]
     },
     "metadata": {
      "needs_background": "light"
     },
     "output_type": "display_data"
    }
   ],
   "source": [
    "# Compute # of active users (e.g. unique CusotomerID) for each month\n",
    "monthly_active_users_df = retail_df2.groupby(\"YYYYMM\")[[\"CustomerID\"]].nunique()\n",
    "# monthly_active_users_df\n",
    "\n",
    "# Plot a bar chart\n",
    "plt.figure(figsize=(25, 20))\n",
    "plt.bar(monthly_active_users_df.index.astype(str), monthly_active_users_df[\"CustomerID\"])\n",
    "plt.title('Monthly Active Users')\n",
    "plt.xlabel(\"Year months (YYYYMM)\")\n",
    "plt.ylabel(\"Number of Montly Users\")\n",
    "plt.show()"
   ]
  },
  {
   "cell_type": "markdown",
   "metadata": {},
   "source": [
    "# New and Existing Users\n",
    "\n"
   ]
  },
  {
   "cell_type": "markdown",
   "metadata": {},
   "source": [
    "---\n",
    "**Please remove this insturction cell after you are done with coding**\n",
    "\n",
    "- Plot a diagram to show new and exiting user for each month.\n",
    "- A user is identified as a new user when he/she makes the first purchase\n",
    "- A user is identified as an existing user when he/she made purchases in the past\n",
    "- hints:\n",
    "  - find out the first purchase year-month for each user and then join this data with the transactional data to help you identified new/exiting users\n",
    "\n",
    "![](https://i.imgur.com/nWjnrpr.jpg)\n",
    "\n",
    "---"
   ]
  },
  {
   "cell_type": "code",
   "execution_count": 223,
   "metadata": {},
   "outputs": [
    {
     "data": {
      "text/html": [
       "<div>\n",
       "<style scoped>\n",
       "    .dataframe tbody tr th:only-of-type {\n",
       "        vertical-align: middle;\n",
       "    }\n",
       "\n",
       "    .dataframe tbody tr th {\n",
       "        vertical-align: top;\n",
       "    }\n",
       "\n",
       "    .dataframe thead th {\n",
       "        text-align: right;\n",
       "    }\n",
       "</style>\n",
       "<table border=\"1\" class=\"dataframe\">\n",
       "  <thead>\n",
       "    <tr style=\"text-align: right;\">\n",
       "      <th></th>\n",
       "      <th>Invoice</th>\n",
       "      <th>StockCode</th>\n",
       "      <th>Description</th>\n",
       "      <th>Quantity</th>\n",
       "      <th>InvoiceDate</th>\n",
       "      <th>Price</th>\n",
       "      <th>CustomerID</th>\n",
       "      <th>Country</th>\n",
       "      <th>YYYYMM</th>\n",
       "      <th>InvoiceAmount</th>\n",
       "    </tr>\n",
       "  </thead>\n",
       "  <tbody>\n",
       "    <tr>\n",
       "      <th>0</th>\n",
       "      <td>489434</td>\n",
       "      <td>85048</td>\n",
       "      <td>15CM CHRISTMAS GLASS BALL 20 LIGHTS</td>\n",
       "      <td>12</td>\n",
       "      <td>2009-12-01 07:45:00</td>\n",
       "      <td>6.95</td>\n",
       "      <td>13085.0</td>\n",
       "      <td>United Kingdom</td>\n",
       "      <td>200912</td>\n",
       "      <td>83.4</td>\n",
       "    </tr>\n",
       "    <tr>\n",
       "      <th>1</th>\n",
       "      <td>489434</td>\n",
       "      <td>79323P</td>\n",
       "      <td>PINK CHERRY LIGHTS</td>\n",
       "      <td>12</td>\n",
       "      <td>2009-12-01 07:45:00</td>\n",
       "      <td>6.75</td>\n",
       "      <td>13085.0</td>\n",
       "      <td>United Kingdom</td>\n",
       "      <td>200912</td>\n",
       "      <td>81.0</td>\n",
       "    </tr>\n",
       "    <tr>\n",
       "      <th>2</th>\n",
       "      <td>489434</td>\n",
       "      <td>79323W</td>\n",
       "      <td>WHITE CHERRY LIGHTS</td>\n",
       "      <td>12</td>\n",
       "      <td>2009-12-01 07:45:00</td>\n",
       "      <td>6.75</td>\n",
       "      <td>13085.0</td>\n",
       "      <td>United Kingdom</td>\n",
       "      <td>200912</td>\n",
       "      <td>81.0</td>\n",
       "    </tr>\n",
       "  </tbody>\n",
       "</table>\n",
       "</div>"
      ],
      "text/plain": [
       "  Invoice StockCode                          Description  Quantity  \\\n",
       "0  489434     85048  15CM CHRISTMAS GLASS BALL 20 LIGHTS        12   \n",
       "1  489434    79323P                   PINK CHERRY LIGHTS        12   \n",
       "2  489434    79323W                  WHITE CHERRY LIGHTS        12   \n",
       "\n",
       "          InvoiceDate  Price  CustomerID         Country  YYYYMM  \\\n",
       "0 2009-12-01 07:45:00   6.95     13085.0  United Kingdom  200912   \n",
       "1 2009-12-01 07:45:00   6.75     13085.0  United Kingdom  200912   \n",
       "2 2009-12-01 07:45:00   6.75     13085.0  United Kingdom  200912   \n",
       "\n",
       "   InvoiceAmount  \n",
       "0           83.4  \n",
       "1           81.0  \n",
       "2           81.0  "
      ]
     },
     "execution_count": 223,
     "metadata": {},
     "output_type": "execute_result"
    }
   ],
   "source": [
    "# Compute # of active users (e.g. unique CusotomerID) for each month\n",
    "# monthly_active_users_df = retail_df2.groupby(\"YYYYMM\")[[\"CustomerID\"]].nunique()\n",
    "# monthly_active_users_df\n",
    "retail_df2.head(3)"
   ]
  },
  {
   "cell_type": "code",
   "execution_count": 234,
   "metadata": {},
   "outputs": [
    {
     "data": {
      "image/png": "[encoded data removed]",
      "text/plain": [
       "<Figure size 1296x720 with 1 Axes>"
      ]
     },
     "metadata": {
      "needs_background": "light"
     },
     "output_type": "display_data"
    }
   ],
   "source": [
    "# Find monthly new users and existing users\n",
    "\n",
    "# Extract the first month of each customer\n",
    "users_first_month_df = retail_df2.groupby(\"CustomerID\")[[\"YYYYMM\"]].first()\n",
    "users_first_month_df[\"NewUserCount\"] = users_first_month_df.index\n",
    "\n",
    "# Calculate counts for new and existing users\n",
    "users_df = users_first_month_df.groupby(\"YYYYMM\")[[\"NewUserCount\"]].count()\n",
    "users_df[\"UserCount\"] = retail_df2.groupby(\"YYYYMM\")[\"CustomerID\"].nunique()\n",
    "users_df[\"ExistingUserCount\"] = users_df[\"UserCount\"] - users_df[\"NewUserCount\"]\n",
    "\n",
    "# Plot diagram to show new and exiting user for each month\n",
    "users_df[[\"NewUserCount\", \"ExistingUserCount\"]].plot(kind='bar', figsize=(18, 10))\n",
    "plt.title('New and Existing Users')\n",
    "plt.xlabel(\"Year Month (YYYYMM)\")\n",
    "plt.ylabel(\"Number of Users\")\n",
    "plt.show()"
   ]
  },
  {
   "cell_type": "markdown",
   "metadata": {},
   "source": [
    "## Finding RFM\n",
    "\n",
    "RFM is a method used for analyzing customer value. It is commonly used in database marketing and direct marketing and has received particular attention in the retail and professional services industries. ([wikipedia](https://en.wikipedia.org/wiki/RFM_(market_research)))\n",
    "\n",
    "Optional Reading: [Making Your Database Pay Off Using Recency Frequency and Monetary Analysis](http://www.dbmarketing.com/2010/03/making-your-database-pay-off-using-recency-frequency-and-monetary-analysis/)\n",
    "\n",
    "\n",
    "RFM stands for three dimensions:\n",
    "\n",
    "- Recency – How recently did the customer purchase?\n",
    "\n",
    "- Frequency – How often do they purchase?\n",
    "\n",
    "- Monetary Value – How much do they spend?\n",
    "\n",
    "Note: To simplify the problem, let's keep all placed and canceled orders.\n",
    "\n",
    "\n",
    "**Sample RFM table**\n",
    "\n",
    "![](https://i.imgur.com/sXFIg6u.jpg)"
   ]
  },
  {
   "cell_type": "code",
   "execution_count": 257,
   "metadata": {},
   "outputs": [
    {
     "name": "stdout",
     "output_type": "stream",
     "text": [
      "            Recency  Frequency  MonetaryValue\n",
      "CustomerID                                   \n",
      "12346.0        4751         17         -64.68\n",
      "12347.0        4428          8        5633.32\n",
      "12348.0        4501          5        2019.40\n",
      "12349.0        4444          5        4404.54\n",
      "12350.0        4736          1         334.40\n",
      "...             ...        ...            ...\n",
      "18283.0        4429         22        2736.65\n",
      "18284.0        4855          2         436.68\n",
      "18285.0        5086          1         427.00\n",
      "18286.0        4902          3        1188.43\n",
      "18287.0        4468          8        4177.89\n",
      "\n",
      "[5942 rows x 3 columns]\n"
     ]
    }
   ],
   "source": [
    "# Group by CustomerID and select the last InvoiceDate for each customer\n",
    "rfm_df = retail_df.groupby(\"CustomerID\")[[\"InvoiceDate\"]].last()\n",
    "\n",
    "# Calculate Recency as the number of days between today and the last InvoiceDate\n",
    "rfm_df[\"Recency\"] =  (pd.Timestamp.today() - rfm_df[\"InvoiceDate\"]).dt.days\n",
    "\n",
    "# Calculate Frequency as the number of unique invoices for each customer\n",
    "rfm_df[\"Frequency\"] = retail_df2.groupby(\"CustomerID\")[\"Invoice\"].nunique()\n",
    "\n",
    "# Calculate MonetaryValue as the sum of InvoiceAmount for each customer\n",
    "rfm_df[\"MonetaryValue\"] = retail_df2.groupby(\"CustomerID\")[\"InvoiceAmount\"].sum()\n",
    "\n",
    "# Display the resulting DataFrame with selected columns\n",
    "print(rfm_df[[\"Recency\",\"Frequency\",\"MonetaryValue\"]])"
   ]
  },
  {
   "cell_type": "markdown",
   "metadata": {},
   "source": [
    "# RFM Segmentation"
   ]
  },
  {
   "cell_type": "markdown",
   "metadata": {},
   "source": [
    "---\n",
    "**Please remove this insturction cell after you are done with coding**\n",
    "RFM segmentation categorizes your customers into different segments, according to their interactions with your website, which will allow you to subsequently approach these groups in the most effective way. In this article, we will show you how to make an RFM segmentation based on an RFM score combining all three RFM parameters together and allowing you to divide your customers into 11 different segments. \n",
    "\n",
    "- [RFM Segmentation business cases](https://docs.exponea.com/docs/rfm-segmentation-business-use)\n",
    "\n",
    "- [RFM Segmentation Guide](https://docs.exponea.com/docs/rfm-segmentation-business-use)\n",
    "\n",
    "As you can see, computing RFM segmentation requires extensive domain knowledge in marketing which is out of the scope in this project. In practice, you will work with BA/DA to figure out how to compute RFM segments. To simplify this project, a [sample RFM segmentation Notebook](https://github.com/jarviscanada/jarvis_data_eng_demo/blob/feature/data/python_data_wrangling/ipynb/customer-segmentation-with-rfm-score.ipynb) is provided. You are responsible to understand everything from that Notebook and then integrate it into yours. \n",
    "\n",
    "- Download the [sample notebook](https://github.com/jarviscanada/jarvis_data_eng_demo/blob/feature/data/python_data_wrangling/ipynb/customer-segmentation-with-rfm-score.ipynb) and import to your Jupyter Notebook or VSCode\n",
    "- Run the notebook and understand all cells\n",
    "- Read the remark section at the end of the notebook. You will need this information when writing the README file\n",
    "- Integrate the RFM segmentation calculation into your notebook\n",
    "\n",
    "---"
   ]
  },
  {
   "cell_type": "code",
   "execution_count": 264,
   "metadata": {},
   "outputs": [
    {
     "data": {
      "text/html": [
       "<div>\n",
       "<style scoped>\n",
       "    .dataframe tbody tr th:only-of-type {\n",
       "        vertical-align: middle;\n",
       "    }\n",
       "\n",
       "    .dataframe tbody tr th {\n",
       "        vertical-align: top;\n",
       "    }\n",
       "\n",
       "    .dataframe thead th {\n",
       "        text-align: right;\n",
       "    }\n",
       "</style>\n",
       "<table border=\"1\" class=\"dataframe\">\n",
       "  <thead>\n",
       "    <tr style=\"text-align: right;\">\n",
       "      <th></th>\n",
       "      <th>InvoiceDate</th>\n",
       "      <th>Recency</th>\n",
       "      <th>Frequency</th>\n",
       "      <th>MonetaryValue</th>\n",
       "      <th>RecencyScore</th>\n",
       "      <th>FrequencyScore</th>\n",
       "      <th>MonetaryScore</th>\n",
       "      <th>RFM_SCORE</th>\n",
       "    </tr>\n",
       "    <tr>\n",
       "      <th>CustomerID</th>\n",
       "      <th></th>\n",
       "      <th></th>\n",
       "      <th></th>\n",
       "      <th></th>\n",
       "      <th></th>\n",
       "      <th></th>\n",
       "      <th></th>\n",
       "      <th></th>\n",
       "    </tr>\n",
       "  </thead>\n",
       "  <tbody>\n",
       "    <tr>\n",
       "      <th>12346.0</th>\n",
       "      <td>2011-01-18 10:17:00</td>\n",
       "      <td>4751</td>\n",
       "      <td>17</td>\n",
       "      <td>-64.68</td>\n",
       "      <td>2</td>\n",
       "      <td>5</td>\n",
       "      <td>1</td>\n",
       "      <td>251</td>\n",
       "    </tr>\n",
       "    <tr>\n",
       "      <th>12347.0</th>\n",
       "      <td>2011-12-07 15:52:00</td>\n",
       "      <td>4428</td>\n",
       "      <td>8</td>\n",
       "      <td>5633.32</td>\n",
       "      <td>5</td>\n",
       "      <td>4</td>\n",
       "      <td>5</td>\n",
       "      <td>545</td>\n",
       "    </tr>\n",
       "    <tr>\n",
       "      <th>12348.0</th>\n",
       "      <td>2011-09-25 13:13:00</td>\n",
       "      <td>4501</td>\n",
       "      <td>5</td>\n",
       "      <td>2019.40</td>\n",
       "      <td>3</td>\n",
       "      <td>3</td>\n",
       "      <td>4</td>\n",
       "      <td>334</td>\n",
       "    </tr>\n",
       "    <tr>\n",
       "      <th>12349.0</th>\n",
       "      <td>2011-11-21 09:51:00</td>\n",
       "      <td>4444</td>\n",
       "      <td>5</td>\n",
       "      <td>4404.54</td>\n",
       "      <td>5</td>\n",
       "      <td>3</td>\n",
       "      <td>5</td>\n",
       "      <td>535</td>\n",
       "    </tr>\n",
       "    <tr>\n",
       "      <th>12350.0</th>\n",
       "      <td>2011-02-02 16:01:00</td>\n",
       "      <td>4736</td>\n",
       "      <td>1</td>\n",
       "      <td>334.40</td>\n",
       "      <td>2</td>\n",
       "      <td>1</td>\n",
       "      <td>2</td>\n",
       "      <td>212</td>\n",
       "    </tr>\n",
       "  </tbody>\n",
       "</table>\n",
       "</div>"
      ],
      "text/plain": [
       "                   InvoiceDate  Recency  Frequency  MonetaryValue  \\\n",
       "CustomerID                                                          \n",
       "12346.0    2011-01-18 10:17:00     4751         17         -64.68   \n",
       "12347.0    2011-12-07 15:52:00     4428          8        5633.32   \n",
       "12348.0    2011-09-25 13:13:00     4501          5        2019.40   \n",
       "12349.0    2011-11-21 09:51:00     4444          5        4404.54   \n",
       "12350.0    2011-02-02 16:01:00     4736          1         334.40   \n",
       "\n",
       "           RecencyScore FrequencyScore MonetaryScore RFM_SCORE  \n",
       "CustomerID                                                      \n",
       "12346.0               2              5             1       251  \n",
       "12347.0               5              4             5       545  \n",
       "12348.0               3              3             4       334  \n",
       "12349.0               5              3             5       535  \n",
       "12350.0               2              1             2       212  "
      ]
     },
     "execution_count": 264,
     "metadata": {},
     "output_type": "execute_result"
    }
   ],
   "source": [
    "#RFM score values \n",
    "# rfm_df\n",
    "rfm_df['RecencyScore'] = pd.qcut(rfm_df['Recency'],5,labels=[5,4,3,2,1])\n",
    "rfm_df['FrequencyScore'] = pd.qcut(rfm_df['Frequency'].rank(method=\"first\"),5,labels=[1,2,3,4,5])\n",
    "rfm_df['MonetaryScore'] = pd.qcut(rfm_df['MonetaryValue'],5,labels=[1,2,3,4,5])\n",
    "\n",
    "#calculation of the RFM score\n",
    "rfm_df[\"RFM_SCORE\"] = rfm_df['RecencyScore'].astype(str) + rfm_df['FrequencyScore'].astype(str) + rfm_df['MonetaryScore'].astype(str)\n",
    "rfm_df.head()"
   ]
  },
  {
   "cell_type": "code",
   "execution_count": 277,
   "metadata": {},
   "outputs": [
    {
     "data": {
      "text/html": [
       "<div>\n",
       "<style scoped>\n",
       "    .dataframe tbody tr th:only-of-type {\n",
       "        vertical-align: middle;\n",
       "    }\n",
       "\n",
       "    .dataframe tbody tr th {\n",
       "        vertical-align: top;\n",
       "    }\n",
       "\n",
       "    .dataframe thead tr th {\n",
       "        text-align: left;\n",
       "    }\n",
       "\n",
       "    .dataframe thead tr:last-of-type th {\n",
       "        text-align: right;\n",
       "    }\n",
       "</style>\n",
       "<table border=\"1\" class=\"dataframe\">\n",
       "  <thead>\n",
       "    <tr>\n",
       "      <th></th>\n",
       "      <th colspan=\"2\" halign=\"left\">Recency</th>\n",
       "      <th colspan=\"2\" halign=\"left\">Frequency</th>\n",
       "      <th colspan=\"2\" halign=\"left\">MonetaryValue</th>\n",
       "    </tr>\n",
       "    <tr>\n",
       "      <th></th>\n",
       "      <th>mean</th>\n",
       "      <th>count</th>\n",
       "      <th>mean</th>\n",
       "      <th>count</th>\n",
       "      <th>mean</th>\n",
       "      <th>count</th>\n",
       "    </tr>\n",
       "    <tr>\n",
       "      <th>Segment</th>\n",
       "      <th></th>\n",
       "      <th></th>\n",
       "      <th></th>\n",
       "      <th></th>\n",
       "      <th></th>\n",
       "      <th></th>\n",
       "    </tr>\n",
       "  </thead>\n",
       "  <tbody>\n",
       "    <tr>\n",
       "      <th>About to Sleep</th>\n",
       "      <td>4533.689474</td>\n",
       "      <td>380</td>\n",
       "      <td>1.460526</td>\n",
       "      <td>380</td>\n",
       "      <td>492.810900</td>\n",
       "      <td>380</td>\n",
       "    </tr>\n",
       "    <tr>\n",
       "      <th>At Risk</th>\n",
       "      <td>4802.094415</td>\n",
       "      <td>752</td>\n",
       "      <td>4.672872</td>\n",
       "      <td>752</td>\n",
       "      <td>1157.449162</td>\n",
       "      <td>752</td>\n",
       "    </tr>\n",
       "    <tr>\n",
       "      <th>Can't Lose</th>\n",
       "      <td>4747.305882</td>\n",
       "      <td>85</td>\n",
       "      <td>17.717647</td>\n",
       "      <td>85</td>\n",
       "      <td>5725.638494</td>\n",
       "      <td>85</td>\n",
       "    </tr>\n",
       "    <tr>\n",
       "      <th>Champions</th>\n",
       "      <td>4433.512850</td>\n",
       "      <td>856</td>\n",
       "      <td>23.532710</td>\n",
       "      <td>856</td>\n",
       "      <td>10510.937634</td>\n",
       "      <td>856</td>\n",
       "    </tr>\n",
       "    <tr>\n",
       "      <th>Hibernating</th>\n",
       "      <td>4891.237785</td>\n",
       "      <td>1535</td>\n",
       "      <td>1.336808</td>\n",
       "      <td>1535</td>\n",
       "      <td>340.030536</td>\n",
       "      <td>1535</td>\n",
       "    </tr>\n",
       "    <tr>\n",
       "      <th>Loyal Customers</th>\n",
       "      <td>4493.149565</td>\n",
       "      <td>1150</td>\n",
       "      <td>11.941739</td>\n",
       "      <td>1150</td>\n",
       "      <td>3966.024762</td>\n",
       "      <td>1150</td>\n",
       "    </tr>\n",
       "    <tr>\n",
       "      <th>Need Attention</th>\n",
       "      <td>4539.395604</td>\n",
       "      <td>273</td>\n",
       "      <td>3.673993</td>\n",
       "      <td>273</td>\n",
       "      <td>1099.877403</td>\n",
       "      <td>273</td>\n",
       "    </tr>\n",
       "    <tr>\n",
       "      <th>New Customers</th>\n",
       "      <td>4435.814815</td>\n",
       "      <td>54</td>\n",
       "      <td>1.000000</td>\n",
       "      <td>54</td>\n",
       "      <td>362.463148</td>\n",
       "      <td>54</td>\n",
       "    </tr>\n",
       "    <tr>\n",
       "      <th>Potential Loyalists</th>\n",
       "      <td>4450.674764</td>\n",
       "      <td>741</td>\n",
       "      <td>2.967611</td>\n",
       "      <td>741</td>\n",
       "      <td>899.359865</td>\n",
       "      <td>741</td>\n",
       "    </tr>\n",
       "    <tr>\n",
       "      <th>Promising</th>\n",
       "      <td>4463.758621</td>\n",
       "      <td>116</td>\n",
       "      <td>1.000000</td>\n",
       "      <td>116</td>\n",
       "      <td>322.758966</td>\n",
       "      <td>116</td>\n",
       "    </tr>\n",
       "  </tbody>\n",
       "</table>\n",
       "</div>"
      ],
      "text/plain": [
       "                         Recency        Frequency       MonetaryValue      \n",
       "                            mean count       mean count          mean count\n",
       "Segment                                                                    \n",
       "About to Sleep       4533.689474   380   1.460526   380    492.810900   380\n",
       "At Risk              4802.094415   752   4.672872   752   1157.449162   752\n",
       "Can't Lose           4747.305882    85  17.717647    85   5725.638494    85\n",
       "Champions            4433.512850   856  23.532710   856  10510.937634   856\n",
       "Hibernating          4891.237785  1535   1.336808  1535    340.030536  1535\n",
       "Loyal Customers      4493.149565  1150  11.941739  1150   3966.024762  1150\n",
       "Need Attention       4539.395604   273   3.673993   273   1099.877403   273\n",
       "New Customers        4435.814815    54   1.000000    54    362.463148    54\n",
       "Potential Loyalists  4450.674764   741   2.967611   741    899.359865   741\n",
       "Promising            4463.758621   116   1.000000   116    322.758966   116"
      ]
     },
     "execution_count": 277,
     "metadata": {},
     "output_type": "execute_result"
    }
   ],
   "source": [
    "#segmenting of customers according to RecencyScore and FrequencyScore values\n",
    "seg_map = {\n",
    "    r'[1-2][1-2]': 'Hibernating',\n",
    "    r'[1-2][3-4]': 'At Risk',\n",
    "    r'[1-2]5': 'Can\\'t Lose',\n",
    "    r'3[1-2]': 'About to Sleep',\n",
    "    r'33': 'Need Attention',\n",
    "    r'[3-4][4-5]': 'Loyal Customers',\n",
    "    r'41': 'Promising',\n",
    "    r'51': 'New Customers',\n",
    "    r'[4-5][2-3]': 'Potential Loyalists',\n",
    "    r'5[4-5]': 'Champions'\n",
    "}\n",
    "\n",
    "#creation of segment variable\n",
    "rfm_df['Segment'] = rfm_df['RecencyScore'].astype(str) + rfm_df['FrequencyScore'].astype(str)\n",
    "\n",
    "# Replace segment codes with segment names using seg_map\n",
    "rfm_df['Segment'] = rfm_df['Segment'].replace(seg_map, regex=True)\n",
    "\n",
    "\n",
    "# Summarize the results using mean and count for each segment\n",
    "result_summary = rfm_df[[\"Segment\", \"Recency\", \"Frequency\", \"MonetaryValue\"]].groupby(\"Segment\").agg([\"mean\", \"count\"])\n",
    "result_summary\n"
   ]
  }
 ],
 "metadata": {
  "kernelspec": {
   "display_name": "Python 3",
   "language": "python",
   "name": "python3"
  },
  "language_info": {
   "codemirror_mode": {
    "name": "ipython",
    "version": 3
   },
   "file_extension": ".py",
   "mimetype": "text/x-python",
   "name": "python",
   "nbconvert_exporter": "python",
   "pygments_lexer": "ipython3",
   "version": "3.8.5"
  }
 },
 "nbformat": 4,
 "nbformat_minor": 4
}
